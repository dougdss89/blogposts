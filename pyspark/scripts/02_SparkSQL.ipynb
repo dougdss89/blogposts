{
 "cells": [
  {
   "cell_type": "code",
   "execution_count": null,
   "metadata": {},
   "outputs": [],
   "source": [
    "from pyspark.sql import SparkSession\n",
    "from pyspark.sql.functions import *\n",
    "from pyspark.sql.types import *\n",
    "import pandas as pd\n",
    "\n",
    "spark = SparkSession.\\\n",
    "        builder.\\\n",
    "        appName(\"SparkTransformation\").\\\n",
    "        getOrCreate()"
   ]
  },
  {
   "cell_type": "code",
   "execution_count": null,
   "metadata": {},
   "outputs": [],
   "source": [
    "schemaStrut = StructType([StructField(\"InvoiceNo\", StringType(), nullable= False),\n",
    "                         StructField(\"StockCode\", StringType(), nullable= False),\n",
    "                         StructField(\"Description\", StringType(), nullable= False),\n",
    "                         StructField(\"Quantity\", IntegerType(), nullable= False),\n",
    "                         StructField(\"InvoiceDate\", StringType(), nullable= False),\n",
    "                         StructField(\"UnitPrice\", FloatType(), nullable= False),\n",
    "                         StructField(\"CustomerID\", StringType(), nullable= False),\n",
    "                         StructField(\"Country\", StringType(), nullable= False)])\n",
    "\n",
    "pathSource = \"../Python/SparkDefGuide/data/retail-data/all/online-retail-dataset.csv\"\n",
    "\n",
    "retailframe = spark.read.csv(pathSource, schemaStrut, sep= \",\", header= True).\\\n",
    "                            withColumnRenamed(\"InvoiceNo\", \"Orderid\").\\\n",
    "                            withColumnRenamed(\"Quantity\", \"Qtd\").\\\n",
    "                            withColumnRenamed(\"UnitPrice\", \"Price\").\\\n",
    "                            withColumnRenamed(\"InvoiceDate\", \"Orderdate\").\\\n",
    "                            withColumnRenamed(\"Description\", \"Desc\")\n",
    "retailframe.show()"
   ]
  }
 ],
 "metadata": {
  "kernelspec": {
   "display_name": "Python 3.10.6 64-bit",
   "language": "python",
   "name": "python3"
  },
  "language_info": {
   "codemirror_mode": {
    "name": "ipython",
    "version": 3
   },
   "file_extension": ".py",
   "mimetype": "text/x-python",
   "name": "python",
   "nbconvert_exporter": "python",
   "pygments_lexer": "ipython3",
   "version": "3.10.6"
  },
  "orig_nbformat": 4,
  "vscode": {
   "interpreter": {
    "hash": "31f2aee4e71d21fbe5cf8b01ff0e069b9275f58929596ceb00d14d90e3e16cd6"
   }
  }
 },
 "nbformat": 4,
 "nbformat_minor": 2
}
