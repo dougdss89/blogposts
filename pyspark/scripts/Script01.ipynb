{
 "cells": [
  {
   "cell_type": "code",
   "execution_count": null,
   "metadata": {},
   "outputs": [],
   "source": [
    "import pyspark as ps\n",
    "from pyspark.sql import SparkSession\n",
    "\n",
    "spark = SparkSession.builder.appName(\"NewApp\").getOrCreate()\n",
    "print(spark)"
   ]
  },
  {
   "cell_type": "code",
   "execution_count": null,
   "metadata": {},
   "outputs": [],
   "source": [
    "from pyspark.sql.functions import explode, split\n",
    "\n",
    "lines = ( spark\n",
    ".readStream\n",
    ".format(\"socket\")\n",
    ".option(\"host\", \"localhost\")\n",
    ".option(\"port\", 9999)\n",
    ".load())\n",
    "\n",
    "words = lines.select(explode(split(lines.value, \" \")).alias(\"word\"))\n",
    "words_counts = words.groupby(\"word\").count()\n",
    "query = (words_counts\n",
    "         .writeStream\n",
    "         .format(\"kafka\")\n",
    "         .option(\"topic\", \"output\"))"
   ]
  },
  {
   "cell_type": "code",
   "execution_count": null,
   "metadata": {},
   "outputs": [],
   "source": [
    "df = spark.range(0,10000,1,8)\n",
    "print(df.rdd.getNumPartitions())"
   ]
  },
  {
   "cell_type": "code",
   "execution_count": null,
   "metadata": {},
   "outputs": [],
   "source": [
    "print(\"hello world\")"
   ]
  },
  {
   "cell_type": "code",
   "execution_count": null,
   "metadata": {},
   "outputs": [],
   "source": [
    "strings = spark.read.text(\"../README.md\")\n",
    "filtered = strings.filter(strings.value.contains(\"Spark\"))\n",
    "filtered.count()"
   ]
  },
  {
   "cell_type": "code",
   "execution_count": 1,
   "metadata": {},
   "outputs": [],
   "source": [
    "import sys\n",
    "\n",
    "from pyspark.sql import SparkSession"
   ]
  },
  {
   "cell_type": "code",
   "execution_count": 3,
   "metadata": {},
   "outputs": [
    {
     "name": "stderr",
     "output_type": "stream",
     "text": [
      "Usage: mnmcount <file>\n"
     ]
    },
    {
     "ename": "SystemExit",
     "evalue": "-1",
     "output_type": "error",
     "traceback": [
      "An exception has occurred, use %tb to see the full traceback.\n",
      "\u001b[0;31mSystemExit\u001b[0m\u001b[0;31m:\u001b[0m -1\n"
     ]
    }
   ],
   "source": [
    "if __name__== \"__main__\":\n",
    "    if len(sys.argv) != 2:\n",
    "        print(\"Usage: mnmcount <file>\", file=sys.stderr)\n",
    "        sys.exit(-1)\n",
    "        \n",
    "#build a sparksession using the sparksession api's\n",
    "#if one does not exist, create an instance\n",
    "#can only be one sparksession per jvm\n",
    "\n",
    "spark = (SparkSession.builder.appName(\"PythonMnMCount\").getOrCreate())\n",
    "\n",
    "#get the mm dataset file from the command-line arguments mnm_file = sys.argv[1]\n",
    "#read the file into spark dataframe using csv\n",
    "\n",
    "mnm_df = (spark.read.format(\"csv\").option(\"header\", True).option(\"inferSchema\", \"true\").load(mnm_file))\n",
    "\n",
    "count_mnm_df = (mnm_df\n",
    "    .select(\"State\", \"Color\", \"Count\")\n",
    "    .groupBy(\"State\",\"Color\")\n",
    "    .sum(\"Count\")\n",
    "    .orderBy(\"sum(Count)\",ascending=False))\n",
    "\n",
    "count_mnm_df.show(n = 60, truncate=False)\n",
    "print(\"Total Rows = %d\" %(count_mnm_df.count()))\n",
    "\n",
    "ca_count_mnm_df = (mnm_df\n",
    "    .select(\"State\", \"Color\", \"Count\")\n",
    "    .where(mnm_df.State == \"CA\")\n",
    "    .groupBy(\"State\", \"Color\")\n",
    "    .sum(\"Count\")\n",
    "    .orderBy(\"sum(Count)\", ascending=False))\n",
    "\n",
    "ca_count_mnm_df.show(n=10, truncate=False)\n",
    "spark.stop()"
   ]
  },
  {
   "cell_type": "code",
   "execution_count": null,
   "metadata": {},
   "outputs": [],
   "source": [
    "#criando um dataframe com 1000 linhas\n",
    "#a função toDF cria o dataframe recebendo um parâmetro de nome\n",
    "#utilizando a variável \"spark\" estou encurtando o caminho da SparkSession, criando o \n",
    "#dataframe dentro dessa sessão.\n",
    "myrange = spark.range(1000).toDF(\"Number\")"
   ]
  },
  {
   "cell_type": "code",
   "execution_count": null,
   "metadata": {},
   "outputs": [],
   "source": [
    "#executando uma transformação no dataframe acima\n",
    "divisebyTwo = myrange.where(\"number % 2 = 0\")"
   ]
  },
  {
   "cell_type": "code",
   "execution_count": null,
   "metadata": {},
   "outputs": [],
   "source": [
    "#como estou pedindo para o spark me enviar o resultado\n",
    "#ele precisa tomar uma ação com a transformação\n",
    "#quando isso ocorre, ele define o plano de execução e executa.\n",
    "divisebyTwo.count()"
   ]
  },
  {
   "cell_type": "code",
   "execution_count": null,
   "metadata": {},
   "outputs": [],
   "source": [
    "flightdata2015 = spark\\\n",
    "    .read\\\n",
    "        .option(\"inferSchema\", \"true\")\\\n",
    "            .option(\"header\", \"true\")\\\n",
    "                .csv(\"Spark-The-Definitive-Guide/data/flight-data/csv/2015-summary.csv\")\n",
    "                "
   ]
  },
  {
   "cell_type": "code",
   "execution_count": null,
   "metadata": {},
   "outputs": [],
   "source": [
    "flightdata2015.take(3)"
   ]
  },
  {
   "cell_type": "code",
   "execution_count": null,
   "metadata": {},
   "outputs": [],
   "source": [
    "flightdata2015.sort(\"Count\").explain()"
   ]
  }
 ],
 "metadata": {
  "kernelspec": {
   "display_name": "Python 3.10.9 64-bit",
   "language": "python",
   "name": "python3"
  },
  "language_info": {
   "codemirror_mode": {
    "name": "ipython",
    "version": 3
   },
   "file_extension": ".py",
   "mimetype": "text/x-python",
   "name": "python",
   "nbconvert_exporter": "python",
   "pygments_lexer": "ipython3",
   "version": "3.10.9"
  },
  "orig_nbformat": 4,
  "vscode": {
   "interpreter": {
    "hash": "97cc609b13305c559618ec78a438abc56230b9381f827f22d070313b9a1f3777"
   }
  }
 },
 "nbformat": 4,
 "nbformat_minor": 2
}
