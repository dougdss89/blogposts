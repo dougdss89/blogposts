{
 "cells": [
  {
   "cell_type": "code",
   "execution_count": null,
   "metadata": {},
   "outputs": [],
   "source": [
    "import pyspark\n",
    "from pyspark.sql import SparkSession\n",
    "import pandas as pd\n",
    "from pyspark.sql.functions import *\n",
    "\n",
    "\n",
    "configSpark = pyspark.SparkConf().\\\n",
    "                setAll([('spark.executor.memory', '7g'),\n",
    "                        ('spark.executor.cores', '2'),\n",
    "                        ('spark.cores.max', '3'),\n",
    "                        ('spark.driver.memory', '5g')])\n",
    "\n",
    "spark = SparkSession.\\\n",
    "        builder.\\\n",
    "        appName('ColumnOp').\\\n",
    "        getOrCreate()\n",
    "\n",
    "        # master(\"spark://doug:7077\").\\\n",
    "        # config(conf= configSpark).\\\n",
    "\n"
   ]
  },
  {
   "cell_type": "code",
   "execution_count": null,
   "metadata": {},
   "outputs": [],
   "source": [
    "from pyspark.sql.types import *\n",
    "from pyspark.sql.functions import avg\n",
    "\n",
    "#alterando nome da coluna com pyspark\n",
    "schemaStruct = StructType([StructField('ORIGIN_COUNTRY_NAME', StringType(), True),\n",
    "                            StructField('DEST_COUNTRY_NAME', StringType(), True),\n",
    "                            StructField('count', IntegerType(), False)])\n",
    "\n",
    "flyDataFrame = spark.\\\n",
    "                read.\\\n",
    "                json('../Python/SparkDefGuide/data/flight-data/json/2010-summary.json',\\\n",
    "                    schema=schemaStruct).\\\n",
    "                withColumnRenamed('ORIGIN_COUNTRY_NAME','ORIGIN').\\\n",
    "                withColumnRenamed('DEST_COUNTRY_NAME', 'DESTINE').\\\n",
    "                withColumnRenamed('count', 'FLY_COUNT')\n",
    "                \n",
    "# flyDataFrame.show(10)\n",
    "\n",
    "flyDataFrame.selectExpr('avg(FLY_COUNT)', 'count(distinct(DESTINE))').show(100)"
   ]
  },
  {
   "cell_type": "code",
   "execution_count": null,
   "metadata": {},
   "outputs": [],
   "source": [
    "#DATAFRAME PERMITE SLICE NAS COLUNAS\n",
    "\n",
    "print(flyDataFrame.columns[1])\n",
    "print(flyDataFrame.columns[0:1])\n",
    "print(flyDataFrame.sample(1.0, 10))\n",
    "print(flyDataFrame.columns[-3])"
   ]
  },
  {
   "cell_type": "code",
   "execution_count": null,
   "metadata": {},
   "outputs": [],
   "source": [
    "# o select dá esse tipo de liberdade\n",
    "# expr só funciona quando estamos utilizando select. \n",
    "# ele precisa agir diretamente em uma coluna\n",
    "\n",
    "from pyspark.sql.functions import expr\n",
    "\n",
    "\n",
    "flyDataFrame.select('ORIGIN', 'DESTINE', 'FLY_COUNT',\\\n",
    "                expr('fly_count * 5 AS FLY_5X')).\\\n",
    "                alias('FLY_COUNT').\\\n",
    "                sort(flyDataFrame.FLY_COUNT.desc()).\\\n",
    "            show(2)\n",
    "            \n",
    "flyDataFrame.select('*',\\\n",
    "                expr('fly_count * 0.5 as FLY_50pct')).\\\n",
    "                filter(flyDataFrame.ORIGIN == 'Singapore').\\\n",
    "            show(2)\n",
    "\n",
    "#expr não é possível realizar mais de uma operação\n",
    "#ela não aceita dois argumentos      \n",
    "# flyDataFrame.select('*',\\\n",
    "#                 expr('avg(FLY_COUNT)',\\\n",
    "#                     'count(distinct(ORIGIN)')).\\\n",
    "#             show(10)"
   ]
  },
  {
   "cell_type": "code",
   "execution_count": null,
   "metadata": {},
   "outputs": [],
   "source": [
    "#select e #selectexpr e expr\n",
    "\n",
    "#funciona como o select da linguagem SQL\n",
    "# flyDataFrame.select('FLY_COUNT').\\\n",
    "#                 show(1)\n",
    "# flyDataFrame.select('ORIGIN', 'FLY_COUNT').\\\n",
    "#                 show(1)\n",
    "\n",
    "#df.select não permite criar expressões\n",
    "# flyDataFrame.select('ORIGIN', 'FLY_COUNT' * 2).show(2)\n",
    "\n",
    "flyDataFrame.selectExpr('ORIGIN', 'DESTINE', 'FLY_COUNT',\\\n",
    "                        'FLY_COUNT *2', 'FLY_COUNT * 4').\\\n",
    "            show(5)\n",
    "\n",
    "flyDataFrame.selectExpr('ORIGIN', 'FLY_COUNT', 'FLY_COUNT * 0.1 + FLY_COUNT AS FLY_10PCT').\\\n",
    "                filter(flyDataFrame.FLY_COUNT > 1000).\\\n",
    "            show(5)"
   ]
  },
  {
   "cell_type": "code",
   "execution_count": null,
   "metadata": {},
   "outputs": [],
   "source": [
    "#quebrando a limitações do expr com selectExpr\n",
    "#O ERRO ABAIXO É TENTAR RETORNAR A TABELA INTEIRA QUANDO AS AGREGAÇÕES RETORNAM LINEAR\n",
    "\n",
    "# flyDataFrame.selectExpr('FLY_COUNT',\\\n",
    "#                         'avg(FLY_COUNT)',\\\n",
    "#                         'count(distinct(DESTINE))',\\\n",
    "#                         'FLY_COUNT * 0.02 + FLY_COUNT AS FLY_20PCT',\\\n",
    "#                         'FLY_COUNT * 50 AS REVENUE').\\\n",
    "#                 groupBy.\\\n",
    "#             show()\n",
    "\n",
    "\n",
    "#correção\n",
    "flyDataFrame.selectExpr('avg(fly_count)', 'count(distinct(ORIGIN))').\\\n",
    "            show()"
   ]
  },
  {
   "cell_type": "code",
   "execution_count": null,
   "metadata": {},
   "outputs": [],
   "source": [
    "#filtrando e agrupando colunas\n",
    "flyDataFrame.filter(flyDataFrame.DESTINE == 'United States').\\\n",
    "                groupBy('DESTINE').\\\n",
    "                avg().\\\n",
    "                show()\n"
   ]
  },
  {
   "cell_type": "code",
   "execution_count": null,
   "metadata": {},
   "outputs": [],
   "source": [
    "from pyspark.sql.functions import format_number\n",
    "\n",
    "# flyDataFrame.withColumn('FLY_COUNT', flyDataFrame.FLY_COUNT * 2).\\\n",
    "#                 show(2)\n",
    "\n",
    "# flyDataFrame.withColumnRenamed('ORIGIN', 'ORG').\\\n",
    "#                 show(2)\n",
    "\n",
    "#COM WITHCOLUMNS, NUNCA COLOQUE O NOME DA COLUNA ORIGINAL\n",
    "#perceba que funciona como uma espécie de dicionário, com chave e valor (expressão)\n",
    "\n",
    "flyDataFrame.withColumns(\n",
    "                {'FLY_COUNT20%': format_number((flyDataFrame.FLY_COUNT.\\\n",
    "                                    cast('float') * 0.2) + flyDataFrame.FLY_COUNT ,2),\\\n",
    "                                                    \n",
    "                'FLYCOUNT_BY10X': flyDataFrame.FLY_COUNT * 10}).\\\n",
    "            show(4)\n"
   ]
  },
  {
   "cell_type": "code",
   "execution_count": null,
   "metadata": {},
   "outputs": [],
   "source": [
    "\n",
    "flyDataFrame.filter(flyDataFrame.FLY_COUNT >= 400).\\\n",
    "                groupBy('ORIGIN').\\\n",
    "                sum().\\\n",
    "            show()"
   ]
  },
  {
   "cell_type": "code",
   "execution_count": null,
   "metadata": {},
   "outputs": [],
   "source": [
    "#motivo para utilizar withColumn\n",
    "\n",
    "# flyDataFrame.select('ORIGIN', 'DESTINE',\\\n",
    "#                     expr('FLY_COUNT *5')).\\\n",
    "#                 withColumnRenamed('FLY_COUNT *5','FLY_BY_5').\\\n",
    "#                 show(5)\n",
    "                    \n",
    "#COM WITHCOLUMN, EVITAMOS IMPORTAR PACOTE\n",
    "#O CÓDIGO TAMBÉM É MAIS LIMPO, CASO QUEIRA PUXAR TODAS AS COLUNAS\n",
    "#e não muda o nome da coluna -- embora seja recomendável\n",
    "flyDataFrame.withColumn('FLY_COUNT', flyDataFrame.FLY_COUNT * 5).\\\n",
    "                show(3)"
   ]
  },
  {
   "cell_type": "code",
   "execution_count": null,
   "metadata": {},
   "outputs": [],
   "source": [
    "flyDataFrame.withColumn('FlyCount_BY5o ', flyDataFrame.FLY_COUNT * 5).\\\n",
    "                filter(flyDataFrame.FLY_COUNT > 1000).\\\n",
    "                sort(flyDataFrame.FLY_COUNT.desc()).\\\n",
    "            show(2)"
   ]
  },
  {
   "cell_type": "code",
   "execution_count": null,
   "metadata": {},
   "outputs": [],
   "source": [
    "#RENOMEANDO COM SELECT + EXPR\n",
    "#CASO NÃO SE SINTA BEM COM WITHCOLUMN\n",
    "\n",
    "flyDataFrame.select(\"ORIGIN\",\"FLY_COUNT\", \\\n",
    "                    expr(\"FLY_COUNT * 2\").\\\n",
    "                    alias(\"DOUBLE_FLY\")).\\\n",
    "            show(5)"
   ]
  },
  {
   "cell_type": "code",
   "execution_count": null,
   "metadata": {},
   "outputs": [],
   "source": [
    "#filter ou where\n",
    "\n",
    "#para cada cláusula where, uma nova função\n",
    "#o mesmo se aplica ao filter\n",
    "flyDataFrame.filter(flyDataFrame.FLY_COUNT > 1000).\\\n",
    "            show(2)\n",
    "\n",
    "flyDataFrame.filter(flyDataFrame.FLY_COUNT > 1500).\\\n",
    "                filter(flyDataFrame.ORIGIN == \"Canada\" ).\\\n",
    "            show(2)\n",
    "\n",
    "flyDataFrame.where(flyDataFrame.FLY_COUNT > 1000).\\\n",
    "                where(flyDataFrame.ORIGIN == 'United States').\\\n",
    "            show(2)"
   ]
  },
  {
   "cell_type": "code",
   "execution_count": null,
   "metadata": {},
   "outputs": [],
   "source": [
    "#repartition e coalesce\n",
    "#causam um shuffle no dataframe, retornando os valores de acordo com a partição\n",
    "#coalesce reparte como a função partition, mas não faz um grande processo de shuffle no dataframe\n",
    "\n",
    "# print(flyDataFrame.rdd.getNumPartitions())\n",
    "\n",
    "# print(flyDataFrame.repartition(4))\n",
    "\n",
    "flyDataFrame.repartition(2, \"FLY_COUNT\").show(3)\n",
    "\n",
    "flyDataFrame.repartition(3, 'FLY_COUNT').coalesce(3).show(5)\n",
    "\n",
    "flyDataFrame.coalesce(4).show(2)\n",
    "\n",
    "flyDataFrame.coalesce(10).take(5)"
   ]
  },
  {
   "cell_type": "code",
   "execution_count": null,
   "metadata": {},
   "outputs": [],
   "source": [
    "#union dataframe\n",
    "\n",
    "#anexa um dataframe ao outro\n",
    "#como na linguagem SQL, precisam ter o mesmo schema e numero de colunas\n",
    "#nome não faz diferença\n",
    "\n",
    "flydataframe2011 = spark.read.json('../Python/SparkDefGuide/data/flight-data/json/2011-summary.json',\\\n",
    "                                    schema=schemaStruct).\\\n",
    "                withColumnRenamed('ORIGIN_COUNTRY_NAME','ORIGIN').\\\n",
    "                withColumnRenamed('DEST_COUNTRY_NAME', 'DESTINE').\\\n",
    "                withColumnRenamed('count', 'FLY_QTD')\n",
    "\n",
    "flyDataFrame.union(flydataframe2011).\\\n",
    "                filter(flyDataFrame.FLY_COUNT == 1).\\\n",
    "            show(1)\n",
    "            \n",
    "flyDataFrame.describe(\"ORIGIN\")"
   ]
  },
  {
   "cell_type": "code",
   "execution_count": null,
   "metadata": {},
   "outputs": [],
   "source": [
    "flyDataFrame.filter(flyDataFrame.ORIGIN == \"United States\").\\\n",
    "                filter(flyDataFrame.FLY_COUNT > 500).\\\n",
    "            show(100, truncate=True)"
   ]
  },
  {
   "cell_type": "code",
   "execution_count": null,
   "metadata": {},
   "outputs": [],
   "source": [
    "flyDataFrame.select(\"ORIGIN\", \"FLY_COUNT\").\\\n",
    "                where(flyDataFrame.FLY_COUNT > 500).\\\n",
    "                agg(countDistinct(\"ORIGIN\")).\\\n",
    "                    alias(\"DIST_ORIGIN\").\\\n",
    "            show()"
   ]
  },
  {
   "cell_type": "code",
   "execution_count": null,
   "metadata": {},
   "outputs": [],
   "source": [
    "#quantas linhas distintas existem no dataframe para voos com a contagem maior que 1000\n",
    "\n",
    "flyDataFrame.select(\"DESTINE\", \"FLY_COUNT\").\\\n",
    "                filter(flyDataFrame.FLY_COUNT > 1000).\\\n",
    "                distinct().\\\n",
    "            show()"
   ]
  },
  {
   "cell_type": "code",
   "execution_count": 48,
   "metadata": {},
   "outputs": [
    {
     "name": "stdout",
     "output_type": "stream",
     "text": [
      "+---------+---------+--------------------+--------+--------------+---------+----------+--------------+\n",
      "|InvoiceNo|StockCode|         Description|Quantity|   InvoiceDate|UnitPrice|CustomerID|       Country|\n",
      "+---------+---------+--------------------+--------+--------------+---------+----------+--------------+\n",
      "|   536365|   85123A|WHITE HANGING HEA...|       6|12/1/2010 8:26|     2.55|     17850|United Kingdom|\n",
      "|   536365|    71053| WHITE METAL LANTERN|       6|12/1/2010 8:26|     3.39|     17850|United Kingdom|\n",
      "+---------+---------+--------------------+--------+--------------+---------+----------+--------------+\n",
      "only showing top 2 rows\n",
      "\n"
     ]
    }
   ],
   "source": [
    "retailFrame = spark.read.csv('../Python/SparkDefGuide/data/retail-data/all/online-retail-dataset.csv', header= True)\n",
    "retailFrame.show(2)"
   ]
  },
  {
   "cell_type": "code",
   "execution_count": 65,
   "metadata": {},
   "outputs": [
    {
     "name": "stdout",
     "output_type": "stream",
     "text": [
      "+---------+---------+-----------------------------------+--------+---------+----------+--------------+---------+\n",
      "|InvoiceNo|StockCode|Description                        |Quantity|UnitPrice|CustomerID|Country       |OrderDate|\n",
      "+---------+---------+-----------------------------------+--------+---------+----------+--------------+---------+\n",
      "|536365   |85123A   |WHITE HANGING HEART T-LIGHT HOLDER |6       |2.55     |17850     |United Kingdom|null     |\n",
      "|536365   |71053    |WHITE METAL LANTERN                |6       |3.39     |17850     |United Kingdom|null     |\n",
      "|536365   |84406B   |CREAM CUPID HEARTS COAT HANGER     |8       |2.75     |17850     |United Kingdom|null     |\n",
      "|536365   |84029G   |KNITTED UNION FLAG HOT WATER BOTTLE|6       |3.39     |17850     |United Kingdom|null     |\n",
      "|536365   |84029E   |RED WOOLLY HOTTIE WHITE HEART.     |6       |3.39     |17850     |United Kingdom|null     |\n",
      "|536365   |22752    |SET 7 BABUSHKA NESTING BOXES       |2       |7.65     |17850     |United Kingdom|null     |\n",
      "|536365   |21730    |GLASS STAR FROSTED T-LIGHT HOLDER  |6       |4.25     |17850     |United Kingdom|null     |\n",
      "|536366   |22633    |HAND WARMER UNION JACK             |6       |1.85     |17850     |United Kingdom|null     |\n",
      "|536366   |22632    |HAND WARMER RED POLKA DOT          |6       |1.85     |17850     |United Kingdom|null     |\n",
      "|536367   |84879    |ASSORTED COLOUR BIRD ORNAMENT      |32      |1.69     |13047     |United Kingdom|null     |\n",
      "|536367   |22745    |POPPY'S PLAYHOUSE BEDROOM          |6       |2.1      |13047     |United Kingdom|null     |\n",
      "|536367   |22748    |POPPY'S PLAYHOUSE KITCHEN          |6       |2.1      |13047     |United Kingdom|null     |\n",
      "|536367   |22749    |FELTCRAFT PRINCESS CHARLOTTE DOLL  |8       |3.75     |13047     |United Kingdom|null     |\n",
      "|536367   |22310    |IVORY KNITTED MUG COSY             |6       |1.65     |13047     |United Kingdom|null     |\n",
      "|536367   |84969    |BOX OF 6 ASSORTED COLOUR TEASPOONS |6       |4.25     |13047     |United Kingdom|null     |\n",
      "|536367   |22623    |BOX OF VINTAGE JIGSAW BLOCKS       |3       |4.95     |13047     |United Kingdom|null     |\n",
      "|536367   |22622    |BOX OF VINTAGE ALPHABET BLOCKS     |2       |9.95     |13047     |United Kingdom|null     |\n",
      "|536367   |21754    |HOME BUILDING BLOCK WORD           |3       |5.95     |13047     |United Kingdom|null     |\n",
      "|536367   |21755    |LOVE BUILDING BLOCK WORD           |3       |5.95     |13047     |United Kingdom|null     |\n",
      "|536367   |21777    |RECIPE BOX WITH METAL HEART        |4       |7.95     |13047     |United Kingdom|null     |\n",
      "+---------+---------+-----------------------------------+--------+---------+----------+--------------+---------+\n",
      "only showing top 20 rows\n",
      "\n"
     ]
    }
   ],
   "source": [
    "retailFrame.withColumn('OrderDate', to_timestamp(col('InvoiceDate').cast('string'), 'yy mm dd')).\\\n",
    "                drop('InvoiceDate').\\\n",
    "            show(truncate= False)"
   ]
  }
 ],
 "metadata": {
  "kernelspec": {
<<<<<<< HEAD
   "display_name": "Python 3.10.5 64-bit",
=======
   "display_name": "Python 3.9.13 ('base')",
>>>>>>> 9fb1a1153392714cff227c2e7b9cba8cd22d0a0b
   "language": "python",
   "name": "python3"
  },
  "language_info": {
   "codemirror_mode": {
    "name": "ipython",
    "version": 3
   },
   "file_extension": ".py",
   "mimetype": "text/x-python",
   "name": "python",
   "nbconvert_exporter": "python",
   "pygments_lexer": "ipython3",
<<<<<<< HEAD
   "version": "3.10.5"
=======
   "version": "3.9.13"
>>>>>>> 9fb1a1153392714cff227c2e7b9cba8cd22d0a0b
  },
  "orig_nbformat": 4,
  "vscode": {
   "interpreter": {
    "hash": "a7efce954a8c7b2623415eedc0c1165213d626f1af600a6a9cdc5dfa23874e08"
   }
  }
 },
 "nbformat": 4,
 "nbformat_minor": 2
}
