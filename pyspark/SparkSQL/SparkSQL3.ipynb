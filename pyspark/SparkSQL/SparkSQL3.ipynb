{
 "cells": [
  {
   "cell_type": "code",
   "execution_count": null,
   "metadata": {},
   "outputs": [],
   "source": [
    "from pyspark.sql import SparkSession\n",
    "from pyspark.sql.functions import udf\n",
    "from pyspark.sql.functions import *\n",
    "from pyspark.sql.types import StructType, StructField, StringType, FloatType, IntegerType, DateType, LongType\n",
    "from pyspark.sql.catalog import Catalog\n",
    "from os.path import abspath\n",
    "import pandas as pd\n",
    "sampledata = abspath('/mnt/d/linux/datasource/data/flight-data/csv')\n",
    "\n",
    "spark = SparkSession.\\\n",
    "            builder.\\\n",
    "            master('local[*]').\\\n",
    "            appName('spark_functions').\\\n",
    "        getOrCreate()"
   ]
  },
  {
   "cell_type": "code",
   "execution_count": null,
   "metadata": {},
   "outputs": [],
   "source": [
    "sampleschema = StructType([\n",
    "                            StructField('DEST_COUNTRY_NAME', StringType(), True),\n",
    "                            StructField('ORIGIN_COUNTRY_NAME', StringType(), True),\n",
    "                            StructField('count', IntegerType(), True)\n",
    "                        \n",
    "                        ])\n",
    "\n",
    "\n",
    "sampleflight = spark.read.\\\n",
    "                    csv(f'{sampledata}/*.csv',\n",
    "                        header=True,\n",
    "                        schema= sampleschema,\n",
    "                        ).\\\n",
    "                    withColumnRenamed('DEST_COUNTRY_NAME', 'destine').\\\n",
    "                    withColumnRenamed('ORIGIN_COUNTRY_NAME', 'origin')\n",
    "                    \n",
    "sampleflight.createOrReplaceTempView(\"vflight\")"
   ]
  },
  {
   "cell_type": "code",
   "execution_count": null,
   "metadata": {},
   "outputs": [],
   "source": [
    "def totalcount(view:str, columns:str, quantity:str, country: str): \n",
    "    \n",
    "    \"\"\" This function calculates total flights by country \"\"\"\n",
    "    \n",
    "    queryresult = spark.sql(f\"\"\"\n",
    "                                select \n",
    "                            \n",
    "                                    {columns},\n",
    "                                    sum({quantity}) as flightcount\n",
    "                                  \n",
    "                                from {view}\n",
    "                                group by {columns}\n",
    "                                having {columns} like \"{country}\"\n",
    "                                \n",
    "                            \"\"\")\n",
    "    \n",
    "    return queryresult\n",
    "    \n",
    "# totalcount('vflight', 'origin', 'count', 'India').show()\n",
    "unitedflight = totalcount('vflight', 'origin', 'count', 'United States')\n",
    "\n",
    "# unitedflightº\n"
   ]
  },
  {
   "cell_type": "code",
   "execution_count": null,
   "metadata": {},
   "outputs": [],
   "source": [
    "totalfunction = udf(totalcount)\n",
    "\n",
    "frametable = spark.table('vflight')\n",
    "\n",
    "indiacount = frametable.select(totalfunction('frametable', 'origin', 'count', 'inidia'))\n",
    "indiacount.show()"
   ]
  },
  {
   "cell_type": "code",
   "execution_count": null,
   "metadata": {},
   "outputs": [],
   "source": [
    "def flightcount(frame:str, columns:str, quantity:str, country: str):\n",
    "    \n",
    "    \"\"\" function that calculate flights by country \"\"\"\n",
    "    \n",
    "    return spark.sql( \n",
    "              f\"\"\" \n",
    "              \n",
    "              select\n",
    "              \n",
    "                {columns}, \n",
    "                sum({quantity}\n",
    "                \n",
    "                from {frame}\n",
    "                where {columns} = '{country}'\n",
    "                group by {columns})\n",
    "                \n",
    "              \"\"\"\n",
    "            )"
   ]
  },
  {
   "cell_type": "code",
   "execution_count": null,
   "metadata": {},
   "outputs": [],
   "source": [
    "spark.udf.register('flightcount', flightcount)\n",
    "\n",
    "indiacount = spark.sql(\"\"\" select flightcount(vflight, origin, count, india) \"\"\")\n"
   ]
  },
  {
   "cell_type": "code",
   "execution_count": null,
   "metadata": {},
   "outputs": [],
   "source": [
    "def rating(coluna:int):\n",
    "    \n",
    "    if coluna > 2000:\n",
    "        \n",
    "        return 'Classe A'\n",
    "        \n",
    "    elif coluna > 1500 and coluna < 2000:\n",
    "        \n",
    "        return 'Classe B'\n",
    "\n",
    "    else:\n",
    "        return 'Classe C'"
   ]
  },
  {
   "cell_type": "code",
   "execution_count": null,
   "metadata": {},
   "outputs": [],
   "source": [
    "spark.udf.register('rating', rating, StringType())\n",
    "\n",
    "ratefly = (sampleflight.select('origin', 'count').\\\n",
    "                        groupBy('origin').\\\n",
    "                        agg({'count': 'sum'}).\\\n",
    "                        withColumnRenamed('sum(count)', 'total').\\\n",
    "                        createOrReplaceTempView('rate'))\n",
    "\n",
    "samplerate = spark.sql(\"\"\" select * from rate\"\"\")\n",
    "\n",
    "rateoffly = spark.sql(\"\"\"\n",
    "                    \n",
    "       \n",
    "                    select \n",
    "                      origin,\n",
    "                      total,\n",
    "                      rating(total) as rating\n",
    "                    from rate\n",
    "                    \n",
    "                    \"\"\"\n",
    "                    )\n",
    "\n",
    "# spark.sql(\"\"\" select * from rate \"\"\").show()\n",
    "rateoffly.show(10)"
   ]
  },
  {
   "cell_type": "code",
   "execution_count": null,
   "metadata": {},
   "outputs": [],
   "source": [
    "\n",
    "def newrating(coluna:int):\n",
    "    \n",
    "    if coluna > 2000:\n",
    "        \n",
    "        return 'Classe A'\n",
    "        \n",
    "    elif coluna > 1500 and coluna < 2000:\n",
    "        \n",
    "        return 'Classe B'\n",
    "\n",
    "    else:\n",
    "        return 'Classe C'"
   ]
  },
  {
   "cell_type": "code",
   "execution_count": 129,
   "metadata": {},
   "outputs": [
    {
     "name": "stderr",
     "output_type": "stream",
     "text": [
      "[Stage 227:============================================>          (16 + 4) / 20]\r"
     ]
    },
    {
     "name": "stdout",
     "output_type": "stream",
     "text": [
      "+-----+--------+\n",
      "|total|  rating|\n",
      "+-----+--------+\n",
      "| 2063|Classe A|\n",
      "|  416|Classe C|\n",
      "|   85|Classe C|\n",
      "|  508|Classe C|\n",
      "| 1321|Classe C|\n",
      "|  408|Classe C|\n",
      "|  739|Classe C|\n",
      "| 1573|Classe B|\n",
      "|  104|Classe C|\n",
      "|   29|Classe C|\n",
      "+-----+--------+\n",
      "only showing top 10 rows\n",
      "\n"
     ]
    },
    {
     "name": "stderr",
     "output_type": "stream",
     "text": [
      "                                                                                \r"
     ]
    }
   ],
   "source": [
    "ratingudf = udf(newrating)\n",
    "\n",
    "# newrate = spark.sql( \"\"\"\n",
    "       \n",
    "#                     select \n",
    "                    \n",
    "#                       origin,\n",
    "#                       total,\n",
    "#                       newrating(total) as flightrate\n",
    "                      \n",
    "#                     from rate\n",
    "                    \n",
    "#                     \"\"\" )\n",
    "\n",
    "# newrate.show(4)\n",
    "\n",
    "# samplerate.selectExpr(\"ratingudf(total)\").show(10)\n",
    "\n",
    "samplerate.select('total', ratingudf('total').\\\n",
    "                alias('rating')).\\\n",
    "            show(10)"
   ]
  }
 ],
 "metadata": {
  "kernelspec": {
   "display_name": "Python 3",
   "language": "python",
   "name": "python3"
  },
  "language_info": {
   "codemirror_mode": {
    "name": "ipython",
    "version": 3
   },
   "file_extension": ".py",
   "mimetype": "text/x-python",
   "name": "python",
   "nbconvert_exporter": "python",
   "pygments_lexer": "ipython3",
   "version": "3.10.12"
  },
  "orig_nbformat": 4
 },
 "nbformat": 4,
 "nbformat_minor": 2
}
